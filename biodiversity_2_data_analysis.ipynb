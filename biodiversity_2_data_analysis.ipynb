{
 "cells": [
  {
   "cell_type": "markdown",
   "id": "28a1a463",
   "metadata": {},
   "source": [
    "# Biodiversity Portfolio Project (Codecademy Data Science)"
   ]
  },
  {
   "cell_type": "markdown",
   "id": "35326383",
   "metadata": {},
   "source": [
    "**Please note** that the **data wrangling** takes place in the **first** of these two notebooks, and the **data analysis** takes place in the **second** of these two notebooks (**this one**). "
   ]
  },
  {
   "cell_type": "markdown",
   "id": "bfaaa42b",
   "metadata": {},
   "source": [
    "# Data Analysis"
   ]
  },
  {
   "cell_type": "markdown",
   "id": "b48b8ea1",
   "metadata": {},
   "source": [
    "#### Importing Modules"
   ]
  },
  {
   "cell_type": "code",
   "execution_count": 2,
   "id": "2a24b3bb",
   "metadata": {},
   "outputs": [],
   "source": [
    "import numpy as np\n",
    "import pandas as pd\n",
    "from matplotlib import pyplot as plt\n",
    "import seaborn as sns\n",
    "from scipy import stats"
   ]
  },
  {
   "cell_type": "markdown",
   "id": "3527dec4",
   "metadata": {},
   "source": [
    "#### Importing new_df and new_species dataframes"
   ]
  },
  {
   "cell_type": "code",
   "execution_count": 8,
   "id": "9bfb1041",
   "metadata": {},
   "outputs": [],
   "source": [
    "new_df = pd.read_csv('new_df.csv', index_col=[0])"
   ]
  },
  {
   "cell_type": "code",
   "execution_count": 16,
   "id": "1fbc12e7",
   "metadata": {},
   "outputs": [],
   "source": [
    "new_species = pd.read_csv('new_species.csv', index_col=[0])"
   ]
  },
  {
   "cell_type": "markdown",
   "id": "3a1c5499",
   "metadata": {},
   "source": [
    "## Question 1: Are certain categories of species more likely to have been granted a conservation status? If so, does this hold true for all of the conservation statuses?"
   ]
  },
  {
   "cell_type": "markdown",
   "id": "50bf907a",
   "metadata": {},
   "source": [
    "## *Are certain categories of species more likely to have been granted a conservation status?*"
   ]
  },
  {
   "cell_type": "markdown",
   "id": "1fcfaa21",
   "metadata": {},
   "source": [
    "Countplot of Categories Against Countplot of All Species with a Conservation Status by Category"
   ]
  },
  {
   "cell_type": "code",
   "execution_count": 28,
   "id": "1c56f2ee",
   "metadata": {},
   "outputs": [
    {
     "data": {
      "image/png": "[encoded data removed]",
      "text/plain": [
       "<Figure size 864x504 with 2 Axes>"
      ]
     },
     "metadata": {
      "needs_background": "light"
     },
     "output_type": "display_data"
    },
    {
     "data": {
      "text/plain": [
       "<Figure size 432x288 with 0 Axes>"
      ]
     },
     "metadata": {},
     "output_type": "display_data"
    }
   ],
   "source": [
    "fig, axes = plt.subplots(1, 2, figsize=(12,7))\n",
    "fig.tight_layout(pad=2.0)\n",
    "\n",
    "cat_order = new_species.category.value_counts().index\n",
    "\n",
    "sns.countplot(ax=axes[0], x='category', data=new_species, order=cat_order)\n",
    "axes[0].set_title('Count of species by category')\n",
    "axes[0].set_xticklabels(labels = cat_order, rotation = 30)\n",
    "\n",
    "sns.countplot(ax=axes[1], x=new_species.category[new_species.conservation_status.notnull()], order=cat_order)\n",
    "axes[1].set_title('Count of all species with a conservation status by category')\n",
    "axes[1].set_xticklabels(labels = cat_order, rotation = 30)\n",
    "\n",
    "plt.show()\n",
    "plt.clf()"
   ]
  },
  {
   "cell_type": "markdown",
   "id": "755f9346",
   "metadata": {},
   "source": [
    "It is immediately obvious from this graph that at least two categories of species are disproportionally represented - birds and mammals. Fish, amphibians and reptiles seem slightly overrepresented. Both plant categories seem underrepresented."
   ]
  },
  {
   "cell_type": "markdown",
   "id": "f8201f7c",
   "metadata": {},
   "source": [
    "Crosstabulation of category against conservation status/ no conservation status (for all species, i.e. including NaNs)"
   ]
  },
  {
   "cell_type": "code",
   "execution_count": 29,
   "id": "58afd0a7",
   "metadata": {},
   "outputs": [
    {
     "data": {
      "text/html": [
       "<div>\n",
       "<style scoped>\n",
       "    .dataframe tbody tr th:only-of-type {\n",
       "        vertical-align: middle;\n",
       "    }\n",
       "\n",
       "    .dataframe tbody tr th {\n",
       "        vertical-align: top;\n",
       "    }\n",
       "\n",
       "    .dataframe thead th {\n",
       "        text-align: right;\n",
       "    }\n",
       "</style>\n",
       "<table border=\"1\" class=\"dataframe\">\n",
       "  <thead>\n",
       "    <tr style=\"text-align: right;\">\n",
       "      <th>con_status</th>\n",
       "      <th>Conservation Status</th>\n",
       "      <th>No Conservation Status</th>\n",
       "    </tr>\n",
       "    <tr>\n",
       "      <th>category</th>\n",
       "      <th></th>\n",
       "      <th></th>\n",
       "    </tr>\n",
       "  </thead>\n",
       "  <tbody>\n",
       "    <tr>\n",
       "      <th>Amphibian</th>\n",
       "      <td>7</td>\n",
       "      <td>72</td>\n",
       "    </tr>\n",
       "    <tr>\n",
       "      <th>Bird</th>\n",
       "      <td>75</td>\n",
       "      <td>413</td>\n",
       "    </tr>\n",
       "    <tr>\n",
       "      <th>Fish</th>\n",
       "      <td>11</td>\n",
       "      <td>115</td>\n",
       "    </tr>\n",
       "    <tr>\n",
       "      <th>Mammal</th>\n",
       "      <td>31</td>\n",
       "      <td>146</td>\n",
       "    </tr>\n",
       "    <tr>\n",
       "      <th>Nonvascular Plant</th>\n",
       "      <td>5</td>\n",
       "      <td>328</td>\n",
       "    </tr>\n",
       "    <tr>\n",
       "      <th>Reptile</th>\n",
       "      <td>5</td>\n",
       "      <td>73</td>\n",
       "    </tr>\n",
       "    <tr>\n",
       "      <th>Vascular Plant</th>\n",
       "      <td>46</td>\n",
       "      <td>4216</td>\n",
       "    </tr>\n",
       "  </tbody>\n",
       "</table>\n",
       "</div>"
      ],
      "text/plain": [
       "con_status         Conservation Status  No Conservation Status\n",
       "category                                                      \n",
       "Amphibian                            7                      72\n",
       "Bird                                75                     413\n",
       "Fish                                11                     115\n",
       "Mammal                              31                     146\n",
       "Nonvascular Plant                    5                     328\n",
       "Reptile                              5                      73\n",
       "Vascular Plant                      46                    4216"
      ]
     },
     "execution_count": 29,
     "metadata": {},
     "output_type": "execute_result"
    }
   ],
   "source": [
    "new_species['con_status'] = new_species.conservation_status.apply(lambda x: 'No Conservation Status' if x != x else 'Conservation Status')\n",
    "xtab_all = pd.crosstab(new_species.category, new_species.con_status)\n",
    "xtab_all"
   ]
  },
  {
   "cell_type": "markdown",
   "id": "eb895775",
   "metadata": {},
   "source": [
    "Running a Chi Square Test to evaluate whether we can reject the null hypothesis (i.e. that that no relationship exists between these variables; they are independent)."
   ]
  },
  {
   "cell_type": "code",
   "execution_count": 30,
   "id": "40b762d2",
   "metadata": {},
   "outputs": [
    {
     "data": {
      "text/plain": [
       "3.107572119896011e-90"
      ]
     },
     "execution_count": 30,
     "metadata": {},
     "output_type": "execute_result"
    }
   ],
   "source": [
    "chi2, pval, dof, expected = stats.chi2_contingency(xtab_all)\n",
    "pval"
   ]
  },
  {
   "cell_type": "markdown",
   "id": "740200c0",
   "metadata": {},
   "source": [
    "This is a very strong correlation! This is very strong statistical evidence that there is a correlation between category of species and whether that species has been granted a conservation status. We can thus already answer our question: **certain species are more likely to be have been granted a conservation status.**"
   ]
  },
  {
   "cell_type": "markdown",
   "id": "66c02788",
   "metadata": {},
   "source": [
    "We can disaggregate this further by running Fisher's exact test on each of these categories. Fisher's exact test only works on 2x2 crosstabulations, so in this case we are examining whether there is a correlation between, for example, being either 'bird' or 'not bird' and 'conservation status' and 'no conservation status'."
   ]
  },
  {
   "cell_type": "code",
   "execution_count": 33,
   "id": "2788641c",
   "metadata": {},
   "outputs": [
    {
     "data": {
      "text/html": [
       "<div>\n",
       "<style scoped>\n",
       "    .dataframe tbody tr th:only-of-type {\n",
       "        vertical-align: middle;\n",
       "    }\n",
       "\n",
       "    .dataframe tbody tr th {\n",
       "        vertical-align: top;\n",
       "    }\n",
       "\n",
       "    .dataframe thead th {\n",
       "        text-align: right;\n",
       "    }\n",
       "</style>\n",
       "<table border=\"1\" class=\"dataframe\">\n",
       "  <thead>\n",
       "    <tr style=\"text-align: right;\">\n",
       "      <th></th>\n",
       "      <th>category</th>\n",
       "      <th>scientific_name</th>\n",
       "      <th>common_names</th>\n",
       "      <th>conservation_status</th>\n",
       "      <th>con_status</th>\n",
       "    </tr>\n",
       "  </thead>\n",
       "  <tbody>\n",
       "    <tr>\n",
       "      <th>861</th>\n",
       "      <td>Vascular Plant</td>\n",
       "      <td>Iva annua</td>\n",
       "      <td>Iva</td>\n",
       "      <td>NaN</td>\n",
       "      <td>No Conservation Status</td>\n",
       "    </tr>\n",
       "    <tr>\n",
       "      <th>1434</th>\n",
       "      <td>Vascular Plant</td>\n",
       "      <td>Quercus</td>\n",
       "      <td>Oak</td>\n",
       "      <td>NaN</td>\n",
       "      <td>No Conservation Status</td>\n",
       "    </tr>\n",
       "    <tr>\n",
       "      <th>151</th>\n",
       "      <td>Bird</td>\n",
       "      <td>Philomachus pugnax</td>\n",
       "      <td>Ruff</td>\n",
       "      <td>NaN</td>\n",
       "      <td>No Conservation Status</td>\n",
       "    </tr>\n",
       "    <tr>\n",
       "      <th>2113</th>\n",
       "      <td>Vascular Plant</td>\n",
       "      <td>Juncus dichotomus</td>\n",
       "      <td>Rush</td>\n",
       "      <td>NaN</td>\n",
       "      <td>No Conservation Status</td>\n",
       "    </tr>\n",
       "    <tr>\n",
       "      <th>2527</th>\n",
       "      <td>Vascular Plant</td>\n",
       "      <td>Pyrus</td>\n",
       "      <td>Pear</td>\n",
       "      <td>NaN</td>\n",
       "      <td>No Conservation Status</td>\n",
       "    </tr>\n",
       "    <tr>\n",
       "      <th>...</th>\n",
       "      <td>...</td>\n",
       "      <td>...</td>\n",
       "      <td>...</td>\n",
       "      <td>...</td>\n",
       "      <td>...</td>\n",
       "    </tr>\n",
       "    <tr>\n",
       "      <th>4274</th>\n",
       "      <td>Vascular Plant</td>\n",
       "      <td>Polypogon monspeliensis</td>\n",
       "      <td>Annual Rabbitsfoot Grass, Annual Rabbit's-Foot...</td>\n",
       "      <td>NaN</td>\n",
       "      <td>No Conservation Status</td>\n",
       "    </tr>\n",
       "    <tr>\n",
       "      <th>3423</th>\n",
       "      <td>Vascular Plant</td>\n",
       "      <td>Bidens cernua</td>\n",
       "      <td>Bur Marigold, Nodding Beggartick, Nodding Begg...</td>\n",
       "      <td>NaN</td>\n",
       "      <td>No Conservation Status</td>\n",
       "    </tr>\n",
       "    <tr>\n",
       "      <th>3034</th>\n",
       "      <td>Mammal</td>\n",
       "      <td>Corynorhinus townsendii</td>\n",
       "      <td>Mule-Eared Bat, Pacific Townsend's Big-Eared B...</td>\n",
       "      <td>NaN</td>\n",
       "      <td>No Conservation Status</td>\n",
       "    </tr>\n",
       "    <tr>\n",
       "      <th>3562</th>\n",
       "      <td>Vascular Plant</td>\n",
       "      <td>Tragopogon dubius</td>\n",
       "      <td>Common Salsify, Goat's Beard, Goatsbeard, Mead...</td>\n",
       "      <td>NaN</td>\n",
       "      <td>No Conservation Status</td>\n",
       "    </tr>\n",
       "    <tr>\n",
       "      <th>3356</th>\n",
       "      <td>Vascular Plant</td>\n",
       "      <td>Maianthemum stellatum</td>\n",
       "      <td>False Solomon's Seal, Little False Solomon's-S...</td>\n",
       "      <td>NaN</td>\n",
       "      <td>No Conservation Status</td>\n",
       "    </tr>\n",
       "  </tbody>\n",
       "</table>\n",
       "<p>5543 rows × 5 columns</p>\n",
       "</div>"
      ],
      "text/plain": [
       "            category          scientific_name  \\\n",
       "861   Vascular Plant                Iva annua   \n",
       "1434  Vascular Plant                  Quercus   \n",
       "151             Bird       Philomachus pugnax   \n",
       "2113  Vascular Plant        Juncus dichotomus   \n",
       "2527  Vascular Plant                    Pyrus   \n",
       "...              ...                      ...   \n",
       "4274  Vascular Plant  Polypogon monspeliensis   \n",
       "3423  Vascular Plant            Bidens cernua   \n",
       "3034          Mammal  Corynorhinus townsendii   \n",
       "3562  Vascular Plant        Tragopogon dubius   \n",
       "3356  Vascular Plant    Maianthemum stellatum   \n",
       "\n",
       "                                           common_names conservation_status  \\\n",
       "861                                                 Iva                 NaN   \n",
       "1434                                                Oak                 NaN   \n",
       "151                                                Ruff                 NaN   \n",
       "2113                                               Rush                 NaN   \n",
       "2527                                               Pear                 NaN   \n",
       "...                                                 ...                 ...   \n",
       "4274  Annual Rabbitsfoot Grass, Annual Rabbit's-Foot...                 NaN   \n",
       "3423  Bur Marigold, Nodding Beggartick, Nodding Begg...                 NaN   \n",
       "3034  Mule-Eared Bat, Pacific Townsend's Big-Eared B...                 NaN   \n",
       "3562  Common Salsify, Goat's Beard, Goatsbeard, Mead...                 NaN   \n",
       "3356  False Solomon's Seal, Little False Solomon's-S...                 NaN   \n",
       "\n",
       "                  con_status  \n",
       "861   No Conservation Status  \n",
       "1434  No Conservation Status  \n",
       "151   No Conservation Status  \n",
       "2113  No Conservation Status  \n",
       "2527  No Conservation Status  \n",
       "...                      ...  \n",
       "4274  No Conservation Status  \n",
       "3423  No Conservation Status  \n",
       "3034  No Conservation Status  \n",
       "3562  No Conservation Status  \n",
       "3356  No Conservation Status  \n",
       "\n",
       "[5543 rows x 5 columns]"
      ]
     },
     "execution_count": 33,
     "metadata": {},
     "output_type": "execute_result"
    }
   ],
   "source": [
    "new_species"
   ]
  },
  {
   "cell_type": "code",
   "execution_count": 34,
   "id": "10d9effa",
   "metadata": {},
   "outputs": [],
   "source": [
    "xtab_vplant = pd.crosstab(new_species.category.apply(lambda x: 'Vascular Plant' if x == 'Vascular Plant' else 'Not Vascular Plant'), new_species.con_status)\n",
    "xtab_bird = pd.crosstab(new_species.category.apply(lambda x: 'Bird' if x == 'Bird' else 'Not Bird'), new_species.con_status)\n",
    "xtab_nvplant = pd.crosstab(new_species.category.apply(lambda x: 'Nonvascular Plant' if x == 'Nonvascular Plant' else 'Not Nonvascular Plant'), new_species.con_status)\n",
    "xtab_mammal = pd.crosstab(new_species.category.apply(lambda x: 'Mammal' if x == 'Mammal' else 'Not Mammal'), new_species.con_status)\n",
    "xtab_fish = pd.crosstab(new_species.category.apply(lambda x: 'Fish' if x == 'Fish' else 'Not Fish'), new_species.con_status)\n",
    "xtab_amphibian = pd.crosstab(new_species.category.apply(lambda x: 'Amphibian' if x == 'Amphibian' else 'Not Amphibian'), new_species.con_status)\n",
    "xtab_reptile = pd.crosstab(new_species.category.apply(lambda x: 'Reptile' if x == 'Reptile' else 'Not Reptile'), new_species.con_status)"
   ]
  },
  {
   "cell_type": "code",
   "execution_count": 38,
   "id": "928f748e",
   "metadata": {},
   "outputs": [
    {
     "name": "stdout",
     "output_type": "stream",
     "text": [
      "For vascular plants, the test returned a p-value of 6.967904370389874e-50; the variables are correlated.\n",
      "\n",
      "For birds, the test returned a p-value of 5.934247481276106e-34; the variables are correlated.\n",
      "\n",
      "For nonvascular plants, the test returned a p-value of 0.07679632385919685, thus we are unable to reject the null hypothesis and say that the variables are correlated\n",
      "\n",
      "For mammals, the test returned a p-value of 3.638754672793725e-15; the variables are correlated.\n",
      "\n",
      "For fish, the test returned a p-value of 0.002461088052241379; the variables are correlated.\n",
      "\n",
      "For amphibians, the test returned a p-value of 0.013717237288072582; the variables are correlated.\n",
      "\n",
      "For reptiles, the test returned a p-value of 0.108495766262549, thus we are unable to reject the null hypothesis and say that the variables are correlated.\n"
     ]
    }
   ],
   "source": [
    "oddsratio, pvalue = stats.fisher_exact(xtab_vplant)\n",
    "print('For vascular plants, the test returned a p-value of {}; the variables are correlated.'.format(pvalue))\n",
    "oddsratio, pvalue = stats.fisher_exact(xtab_bird)\n",
    "print('\\nFor birds, the test returned a p-value of {}; the variables are correlated.'.format(pvalue))\n",
    "oddsratio, pvalue = stats.fisher_exact(xtab_nvplant)\n",
    "print('\\nFor nonvascular plants, the test returned a p-value of {}, thus we are unable to reject the null hypothesis and say that the variables are correlated'.format(pvalue))\n",
    "oddsratio, pvalue = stats.fisher_exact(xtab_mammal)\n",
    "print('\\nFor mammals, the test returned a p-value of {}; the variables are correlated.'.format(pvalue))\n",
    "oddsratio, pvalue = stats.fisher_exact(xtab_fish)\n",
    "print('\\nFor fish, the test returned a p-value of {}; the variables are correlated.'.format(pvalue))\n",
    "oddsratio, pvalue = stats.fisher_exact(xtab_amphibian)\n",
    "print('\\nFor amphibians, the test returned a p-value of {}; the variables are correlated.'.format(pvalue))\n",
    "oddsratio, pvalue = stats.fisher_exact(xtab_reptile)\n",
    "print('\\nFor reptiles, the test returned a p-value of {}, thus we are unable to reject the null hypothesis and say that the variables are correlated.'.format(pvalue))"
   ]
  },
  {
   "cell_type": "markdown",
   "id": "db72e1b5",
   "metadata": {},
   "source": [
    "This is a very robust finding that the category of animal has an effect on whether the species has a conservation status or not: not only did we prove an extremely strong correlation between category and being granted a conservation status overall with the chi square test above, 5 of the 7 individual categories reached significance!\n",
    "\n",
    "Perhaps most interesting is which categories have the strongest correlations. Three categories have *extremely* strong correlations: vascular plants, birds, and mammals. We can see from the visualisations above that vascular plants are much less likely to be granted a conservation status than other categories, whereas birds and mammals are much more likely to be granted a conservation status than other categories."
   ]
  },
  {
   "cell_type": "markdown",
   "id": "d7e03b0a",
   "metadata": {},
   "source": [
    "## *If so, does this hold true for all of the conservation statuses?*"
   ]
  },
  {
   "cell_type": "markdown",
   "id": "68a3e1ce",
   "metadata": {},
   "source": [
    "Having proven a robust correlation between whether a species has been granted **any** conservation status and the category the species is in, the logical next question is: does this correlation hold when he disaggregate 'conservation status' into the various different conservation statuses (species of concern, endangered, threatened, and in recovery)?"
   ]
  },
  {
   "cell_type": "markdown",
   "id": "12470bb9",
   "metadata": {},
   "source": [
    "Crosstabulation of category against conservation status (for species with any conservation status)"
   ]
  },
  {
   "cell_type": "code",
   "execution_count": 36,
   "id": "752cbe7d",
   "metadata": {},
   "outputs": [
    {
     "data": {
      "text/html": [
       "<div>\n",
       "<style scoped>\n",
       "    .dataframe tbody tr th:only-of-type {\n",
       "        vertical-align: middle;\n",
       "    }\n",
       "\n",
       "    .dataframe tbody tr th {\n",
       "        vertical-align: top;\n",
       "    }\n",
       "\n",
       "    .dataframe thead th {\n",
       "        text-align: right;\n",
       "    }\n",
       "</style>\n",
       "<table border=\"1\" class=\"dataframe\">\n",
       "  <thead>\n",
       "    <tr style=\"text-align: right;\">\n",
       "      <th>conservation_status</th>\n",
       "      <th>Endangered</th>\n",
       "      <th>In Recovery</th>\n",
       "      <th>Species of Concern</th>\n",
       "      <th>Threatened</th>\n",
       "    </tr>\n",
       "    <tr>\n",
       "      <th>category</th>\n",
       "      <th></th>\n",
       "      <th></th>\n",
       "      <th></th>\n",
       "      <th></th>\n",
       "    </tr>\n",
       "  </thead>\n",
       "  <tbody>\n",
       "    <tr>\n",
       "      <th>Amphibian</th>\n",
       "      <td>1</td>\n",
       "      <td>0</td>\n",
       "      <td>4</td>\n",
       "      <td>2</td>\n",
       "    </tr>\n",
       "    <tr>\n",
       "      <th>Bird</th>\n",
       "      <td>4</td>\n",
       "      <td>3</td>\n",
       "      <td>68</td>\n",
       "      <td>0</td>\n",
       "    </tr>\n",
       "    <tr>\n",
       "      <th>Fish</th>\n",
       "      <td>3</td>\n",
       "      <td>0</td>\n",
       "      <td>4</td>\n",
       "      <td>4</td>\n",
       "    </tr>\n",
       "    <tr>\n",
       "      <th>Mammal</th>\n",
       "      <td>6</td>\n",
       "      <td>1</td>\n",
       "      <td>22</td>\n",
       "      <td>2</td>\n",
       "    </tr>\n",
       "    <tr>\n",
       "      <th>Nonvascular Plant</th>\n",
       "      <td>0</td>\n",
       "      <td>0</td>\n",
       "      <td>5</td>\n",
       "      <td>0</td>\n",
       "    </tr>\n",
       "    <tr>\n",
       "      <th>Reptile</th>\n",
       "      <td>0</td>\n",
       "      <td>0</td>\n",
       "      <td>5</td>\n",
       "      <td>0</td>\n",
       "    </tr>\n",
       "    <tr>\n",
       "      <th>Vascular Plant</th>\n",
       "      <td>1</td>\n",
       "      <td>0</td>\n",
       "      <td>43</td>\n",
       "      <td>2</td>\n",
       "    </tr>\n",
       "  </tbody>\n",
       "</table>\n",
       "</div>"
      ],
      "text/plain": [
       "conservation_status  Endangered  In Recovery  Species of Concern  Threatened\n",
       "category                                                                    \n",
       "Amphibian                     1            0                   4           2\n",
       "Bird                          4            3                  68           0\n",
       "Fish                          3            0                   4           4\n",
       "Mammal                        6            1                  22           2\n",
       "Nonvascular Plant             0            0                   5           0\n",
       "Reptile                       0            0                   5           0\n",
       "Vascular Plant                1            0                  43           2"
      ]
     },
     "execution_count": 36,
     "metadata": {},
     "output_type": "execute_result"
    }
   ],
   "source": [
    "xtab = pd.crosstab(new_species.category, new_species.conservation_status)\n",
    "xtab"
   ]
  },
  {
   "cell_type": "markdown",
   "id": "182f21c3",
   "metadata": {},
   "source": [
    "Running a Chi Square Test to evaluate whether we can reject the null hypothesis (i.e. that that no relationship exists between these variables; they are independent)"
   ]
  },
  {
   "cell_type": "code",
   "execution_count": 37,
   "id": "dcc16413",
   "metadata": {},
   "outputs": [
    {
     "data": {
      "text/plain": [
       "3.8820626978199296e-05"
      ]
     },
     "execution_count": 37,
     "metadata": {},
     "output_type": "execute_result"
    }
   ],
   "source": [
    "chi2, pval, dof, expected = stats.chi2_contingency(xtab)\n",
    "pval"
   ]
  },
  {
   "cell_type": "markdown",
   "id": "c1b159b4",
   "metadata": {},
   "source": [
    "This chi square shows a significantly weaker correlation than when we aggregated the various conservation statuses into a binary category: conservation status/ no conservation status. This may well be because of a lack of data (there are only 4 species in 'In Recovery', for example)."
   ]
  },
  {
   "cell_type": "markdown",
   "id": "cc647ba2",
   "metadata": {},
   "source": [
    "When we disaggregate conservation status into two broad categories: 'Species of Concern' and the other categories ('Endangered', 'Threatened', and 'In Recovery'), we can see why there is a weaker correlation when we run the chi square immediately above as opposed to the chi square test where we aggregated all the conservation statuses together."
   ]
  },
  {
   "cell_type": "markdown",
   "id": "577ca77b",
   "metadata": {},
   "source": [
    "Countplot of Species by Category Against Countplot of Species of Concern by Category"
   ]
  },
  {
   "cell_type": "code",
   "execution_count": 66,
   "id": "53932a77",
   "metadata": {},
   "outputs": [
    {
     "data": {
      "image/png": "[encoded data removed]",
      "text/plain": [
       "<Figure size 864x504 with 2 Axes>"
      ]
     },
     "metadata": {},
     "output_type": "display_data"
    },
    {
     "data": {
      "text/plain": [
       "<Figure size 432x288 with 0 Axes>"
      ]
     },
     "metadata": {},
     "output_type": "display_data"
    }
   ],
   "source": [
    "fig, axes = plt.subplots(1, 2, figsize=(12,7))\n",
    "fig.tight_layout(pad=2.0)\n",
    "\n",
    "sns.countplot(ax=axes[0], x='category', data=species, order=cat_order)\n",
    "axes[0].set_title('Count of species by category')\n",
    "axes[0].set_xticklabels(labels = cat_order, rotation = 30)\n",
    "\n",
    "sns.countplot(ax=axes[1], x=species.category[species.conservation_status == 'Species of Concern'], order=cat_order)\n",
    "axes[1].set_title('Count of species of concern by category')\n",
    "axes[1].set_xticklabels(labels = cat_order, rotation = 30)\n",
    "\n",
    "plt.show()\n",
    "plt.clf()"
   ]
  },
  {
   "cell_type": "markdown",
   "id": "f5929204",
   "metadata": {},
   "source": [
    "Countplot of Species by Category Against Countplot of Other Conservation Statuses (ETIR) by Category"
   ]
  },
  {
   "cell_type": "code",
   "execution_count": 38,
   "id": "d8ef13b2",
   "metadata": {},
   "outputs": [
    {
     "data": {
      "image/png": "[encoded data removed]",
      "text/plain": [
       "<Figure size 864x504 with 2 Axes>"
      ]
     },
     "metadata": {
      "needs_background": "light"
     },
     "output_type": "display_data"
    },
    {
     "data": {
      "text/plain": [
       "<Figure size 432x288 with 0 Axes>"
      ]
     },
     "metadata": {},
     "output_type": "display_data"
    }
   ],
   "source": [
    "fig, axes = plt.subplots(1, 2, figsize=(12,7))\n",
    "fig.tight_layout(pad=2.0)\n",
    "\n",
    "sns.countplot(ax=axes[0], x='category', data=species, order=category_order)\n",
    "axes[0].set_title('Count of species by category')\n",
    "axes[0].set_xticklabels(ax.get_xticklabels(),rotation = 30)\n",
    "sns.countplot(ax=axes[1], x=species.category.loc[(species.conservation_status == 'Endangered') | (species.conservation_status == 'Threatened') | (species.conservation_status == 'In Recovery')], order=category_order)\n",
    "axes[1].set_title('Count of species that are endangered, threatened, or in recovery by category')\n",
    "axes[1].set_xticklabels(ax.get_xticklabels(),rotation = 30)\n",
    "plt.show()\n",
    "plt.clf()"
   ]
  },
  {
   "cell_type": "markdown",
   "id": "6457e0ed",
   "metadata": {},
   "source": [
    "Why are these graphs so different? In particular, why does 'Species of Concern' look so much like the countplots above, whereas aggregating the other three conservation statuses results in a completely different plot? \n",
    "\n",
    "Well, if we look at some basic summary statistics on the conservation statuses, we can answer the question:"
   ]
  },
  {
   "cell_type": "markdown",
   "id": "21646ce8",
   "metadata": {},
   "source": [
    "Frequency Table for Conservation Statuses"
   ]
  },
  {
   "cell_type": "code",
   "execution_count": 127,
   "id": "4ad3667a",
   "metadata": {},
   "outputs": [
    {
     "data": {
      "text/html": [
       "<div>\n",
       "<style scoped>\n",
       "    .dataframe tbody tr th:only-of-type {\n",
       "        vertical-align: middle;\n",
       "    }\n",
       "\n",
       "    .dataframe tbody tr th {\n",
       "        vertical-align: top;\n",
       "    }\n",
       "\n",
       "    .dataframe thead th {\n",
       "        text-align: right;\n",
       "    }\n",
       "</style>\n",
       "<table border=\"1\" class=\"dataframe\">\n",
       "  <thead>\n",
       "    <tr style=\"text-align: right;\">\n",
       "      <th></th>\n",
       "      <th>conservation_status</th>\n",
       "      <th>by_proportion</th>\n",
       "    </tr>\n",
       "  </thead>\n",
       "  <tbody>\n",
       "    <tr>\n",
       "      <th>Species of Concern</th>\n",
       "      <td>161</td>\n",
       "      <td>0.842932</td>\n",
       "    </tr>\n",
       "    <tr>\n",
       "      <th>Endangered</th>\n",
       "      <td>16</td>\n",
       "      <td>0.083770</td>\n",
       "    </tr>\n",
       "    <tr>\n",
       "      <th>Threatened</th>\n",
       "      <td>10</td>\n",
       "      <td>0.052356</td>\n",
       "    </tr>\n",
       "    <tr>\n",
       "      <th>In Recovery</th>\n",
       "      <td>4</td>\n",
       "      <td>0.020942</td>\n",
       "    </tr>\n",
       "  </tbody>\n",
       "</table>\n",
       "</div>"
      ],
      "text/plain": [
       "                    conservation_status  by_proportion\n",
       "Species of Concern                  161       0.842932\n",
       "Endangered                           16       0.083770\n",
       "Threatened                           10       0.052356\n",
       "In Recovery                           4       0.020942"
      ]
     },
     "execution_count": 127,
     "metadata": {},
     "output_type": "execute_result"
    }
   ],
   "source": [
    "# Frequency table\n",
    "cat_value = species.conservation_status.value_counts().to_frame()\n",
    "# Frequency table by proportion\n",
    "cat_value_pc = species.conservation_status.value_counts(normalize=True).to_frame()\n",
    "# Renaming the columnn\n",
    "cat_value_pc = cat_value_pc.rename({'conservation_status': 'by_proportion'}, axis='columns')\n",
    "# Joining the tables\n",
    "cat_value = cat_value.join(cat_value_pc)\n",
    "cat_value"
   ]
  },
  {
   "cell_type": "markdown",
   "id": "3ed31726",
   "metadata": {},
   "source": [
    "Countplot of Conservation Statuses"
   ]
  },
  {
   "cell_type": "code",
   "execution_count": 39,
   "id": "65384c04",
   "metadata": {},
   "outputs": [
    {
     "data": {
      "image/png": "[encoded data removed]",
      "text/plain": [
       "<Figure size 720x504 with 1 Axes>"
      ]
     },
     "metadata": {
      "needs_background": "light"
     },
     "output_type": "display_data"
    },
    {
     "data": {
      "text/plain": [
       "<Figure size 432x288 with 0 Axes>"
      ]
     },
     "metadata": {},
     "output_type": "display_data"
    }
   ],
   "source": [
    "plt.figure(figsize=(10,7))\n",
    "sns.countplot(x='conservation_status', data=species, order=cs_order)\n",
    "plt.show()\n",
    "plt.clf()"
   ]
  },
  {
   "cell_type": "markdown",
   "id": "17de4311",
   "metadata": {},
   "source": [
    "The reason the correlation between category and the different conservation statuses is weaker than the correlation between category and conservation status/ no conservation status is because there are so few species listed as 'Endangered', 'Threatened', and 'In Recovery' that the sample size is too small to draw effective conclusions."
   ]
  },
  {
   "cell_type": "markdown",
   "id": "04146167",
   "metadata": {},
   "source": [
    "**Overall, certain categories of species are disproportionately likely to be granted a conservation status. This is broadly true even for individual conservation statuses, although there are so few species listed in some categories (such as 'In Recovery') that the broader trends are not evident.**\n",
    "\n",
    "**Birds and mammals, in particular, are much more likely to be granted a conservation status than other categories, and vascular plants much less likely to be granted a conservation status than other categories.**"
   ]
  },
  {
   "cell_type": "markdown",
   "id": "b8026136",
   "metadata": {},
   "source": [
    "## Question 2: Are species with conservation statuses observed more or less than species without conservation statuses? Does this change between national parks?"
   ]
  },
  {
   "cell_type": "markdown",
   "id": "5c0bc4cd",
   "metadata": {},
   "source": [
    "Quick note: every species in this dataset has a non-zero value in 'observations' for every park, so evaluating how many species with conservation statuses are in each park is beyond the reach of this dataset (because only species in every park are included in the dataset) - see tests below."
   ]
  },
  {
   "cell_type": "code",
   "execution_count": 40,
   "id": "06f94fb2",
   "metadata": {},
   "outputs": [
    {
     "data": {
      "text/plain": [
       "0"
      ]
     },
     "execution_count": 40,
     "metadata": {},
     "output_type": "execute_result"
    }
   ],
   "source": [
    "# Testing for NaNs\n",
    "observations.observations.isna().sum()"
   ]
  },
  {
   "cell_type": "code",
   "execution_count": 41,
   "id": "3393115b",
   "metadata": {},
   "outputs": [
    {
     "data": {
      "text/plain": [
       "0"
      ]
     },
     "execution_count": 41,
     "metadata": {},
     "output_type": "execute_result"
    }
   ],
   "source": [
    "# Testing for values that equal 0\n",
    "len(observations[observations.observations == 0])"
   ]
  },
  {
   "cell_type": "markdown",
   "id": "7195df65",
   "metadata": {},
   "source": [
    "## *Are species with conservation statuses observed more or less than species without conservation statuses?*"
   ]
  },
  {
   "cell_type": "markdown",
   "id": "8f222ffa",
   "metadata": {},
   "source": [
    "To assess this question, this section will first visually examine the distribution of observations and descriptive statistics for the two different groups, before using a statistical test to assess the hypothesis that the means of the two groups are different in the population and not just our sample."
   ]
  },
  {
   "cell_type": "code",
   "execution_count": 39,
   "id": "2879b7a4",
   "metadata": {},
   "outputs": [
    {
     "data": {
      "text/html": [
       "<div>\n",
       "<style scoped>\n",
       "    .dataframe tbody tr th:only-of-type {\n",
       "        vertical-align: middle;\n",
       "    }\n",
       "\n",
       "    .dataframe tbody tr th {\n",
       "        vertical-align: top;\n",
       "    }\n",
       "\n",
       "    .dataframe thead th {\n",
       "        text-align: right;\n",
       "    }\n",
       "</style>\n",
       "<table border=\"1\" class=\"dataframe\">\n",
       "  <thead>\n",
       "    <tr style=\"text-align: right;\">\n",
       "      <th></th>\n",
       "      <th>scientific_name</th>\n",
       "      <th>park_name</th>\n",
       "      <th>total_observations</th>\n",
       "      <th>category</th>\n",
       "      <th>common_names</th>\n",
       "      <th>conservation_status</th>\n",
       "      <th>con_status</th>\n",
       "    </tr>\n",
       "  </thead>\n",
       "  <tbody>\n",
       "    <tr>\n",
       "      <th>0</th>\n",
       "      <td>Abies bifolia</td>\n",
       "      <td>Bryce National Park</td>\n",
       "      <td>109</td>\n",
       "      <td>Vascular Plant</td>\n",
       "      <td>Rocky Mountain Alpine Fir</td>\n",
       "      <td>NaN</td>\n",
       "      <td>No Conservation Status</td>\n",
       "    </tr>\n",
       "    <tr>\n",
       "      <th>1</th>\n",
       "      <td>Abies bifolia</td>\n",
       "      <td>Great Smoky Mountains National Park</td>\n",
       "      <td>72</td>\n",
       "      <td>Vascular Plant</td>\n",
       "      <td>Rocky Mountain Alpine Fir</td>\n",
       "      <td>NaN</td>\n",
       "      <td>No Conservation Status</td>\n",
       "    </tr>\n",
       "    <tr>\n",
       "      <th>2</th>\n",
       "      <td>Abies bifolia</td>\n",
       "      <td>Yellowstone National Park</td>\n",
       "      <td>215</td>\n",
       "      <td>Vascular Plant</td>\n",
       "      <td>Rocky Mountain Alpine Fir</td>\n",
       "      <td>NaN</td>\n",
       "      <td>No Conservation Status</td>\n",
       "    </tr>\n",
       "    <tr>\n",
       "      <th>3</th>\n",
       "      <td>Abies bifolia</td>\n",
       "      <td>Yosemite National Park</td>\n",
       "      <td>136</td>\n",
       "      <td>Vascular Plant</td>\n",
       "      <td>Rocky Mountain Alpine Fir</td>\n",
       "      <td>NaN</td>\n",
       "      <td>No Conservation Status</td>\n",
       "    </tr>\n",
       "    <tr>\n",
       "      <th>4</th>\n",
       "      <td>Abies concolor</td>\n",
       "      <td>Bryce National Park</td>\n",
       "      <td>83</td>\n",
       "      <td>Vascular Plant</td>\n",
       "      <td>Balsam Fir, Colorado Fir, Concolor Fir, Silver...</td>\n",
       "      <td>NaN</td>\n",
       "      <td>No Conservation Status</td>\n",
       "    </tr>\n",
       "  </tbody>\n",
       "</table>\n",
       "</div>"
      ],
      "text/plain": [
       "  scientific_name                            park_name  total_observations  \\\n",
       "0   Abies bifolia                  Bryce National Park                 109   \n",
       "1   Abies bifolia  Great Smoky Mountains National Park                  72   \n",
       "2   Abies bifolia            Yellowstone National Park                 215   \n",
       "3   Abies bifolia               Yosemite National Park                 136   \n",
       "4  Abies concolor                  Bryce National Park                  83   \n",
       "\n",
       "         category                                       common_names  \\\n",
       "0  Vascular Plant                          Rocky Mountain Alpine Fir   \n",
       "1  Vascular Plant                          Rocky Mountain Alpine Fir   \n",
       "2  Vascular Plant                          Rocky Mountain Alpine Fir   \n",
       "3  Vascular Plant                          Rocky Mountain Alpine Fir   \n",
       "4  Vascular Plant  Balsam Fir, Colorado Fir, Concolor Fir, Silver...   \n",
       "\n",
       "  conservation_status              con_status  \n",
       "0                 NaN  No Conservation Status  \n",
       "1                 NaN  No Conservation Status  \n",
       "2                 NaN  No Conservation Status  \n",
       "3                 NaN  No Conservation Status  \n",
       "4                 NaN  No Conservation Status  "
      ]
     },
     "execution_count": 39,
     "metadata": {},
     "output_type": "execute_result"
    }
   ],
   "source": [
    "# Adding binary 'con_status' column to new_df\n",
    "new_df['con_status'] = new_df.conservation_status.apply(lambda x: 'No Conservation Status' if x != x else 'Conservation Status')\n",
    "new_df.head()"
   ]
  },
  {
   "cell_type": "code",
   "execution_count": 44,
   "id": "9f9219f2",
   "metadata": {},
   "outputs": [
    {
     "data": {
      "text/plain": [
       "No Conservation Status    21452\n",
       "Conservation Status         720\n",
       "Name: con_status, dtype: int64"
      ]
     },
     "execution_count": 44,
     "metadata": {},
     "output_type": "execute_result"
    }
   ],
   "source": [
    "new_df.con_status.value_counts()"
   ]
  },
  {
   "cell_type": "code",
   "execution_count": 45,
   "id": "90350d17",
   "metadata": {},
   "outputs": [
    {
     "data": {
      "image/png": "[encoded data removed]",
      "text/plain": [
       "<Figure size 864x504 with 1 Axes>"
      ]
     },
     "metadata": {},
     "output_type": "display_data"
    },
    {
     "data": {
      "text/plain": [
       "<Figure size 432x288 with 0 Axes>"
      ]
     },
     "metadata": {},
     "output_type": "display_data"
    }
   ],
   "source": [
    "sns.set_theme(style='whitegrid')\n",
    "plt.figure(figsize=(12,7))\n",
    "ax = sns.kdeplot(x='total_observations', data=new_df[new_df.con_status == 'Conservation Status'], fill=True, alpha=0.5, label='Conservation Status')\n",
    "ax = sns.kdeplot(x='total_observations', data=new_df[new_df.con_status == 'No Conservation Status'], fill=True, alpha=0.5, label='No Conservation Status')\n",
    "ax.set_title('Distribution of total observations for species')\n",
    "plt.legend()\n",
    "plt.show()\n",
    "plt.clf()"
   ]
  },
  {
   "cell_type": "markdown",
   "id": "c264e4c4",
   "metadata": {},
   "source": [
    "This kernel density estimation plot establishes that both distributions have a very similar shape, but what can we say about the central tendency and spread of the data? One way of looking at this is to look at some summary statistics."
   ]
  },
  {
   "cell_type": "code",
   "execution_count": 47,
   "id": "59360d5c",
   "metadata": {},
   "outputs": [
    {
     "data": {
      "text/plain": [
       "count    720.000000\n",
       "mean     126.143056\n",
       "std       78.776212\n",
       "min       11.000000\n",
       "25%       69.000000\n",
       "50%      109.000000\n",
       "75%      168.000000\n",
       "max      679.000000\n",
       "Name: total_observations, dtype: float64"
      ]
     },
     "execution_count": 47,
     "metadata": {},
     "output_type": "execute_result"
    }
   ],
   "source": [
    "new_df.total_observations[new_df.con_status == 'Conservation Status'].describe()"
   ]
  },
  {
   "cell_type": "code",
   "execution_count": 46,
   "id": "08c18363",
   "metadata": {},
   "outputs": [
    {
     "data": {
      "text/plain": [
       "count    21452.000000\n",
       "mean       150.356330\n",
       "std         81.405849\n",
       "min          9.000000\n",
       "25%         88.000000\n",
       "50%        130.000000\n",
       "75%        219.000000\n",
       "max        805.000000\n",
       "Name: total_observations, dtype: float64"
      ]
     },
     "execution_count": 46,
     "metadata": {},
     "output_type": "execute_result"
    }
   ],
   "source": [
    "new_df.total_observations[new_df.con_status == 'No Conservation Status'].describe()"
   ]
  },
  {
   "cell_type": "markdown",
   "id": "a6fb4748",
   "metadata": {},
   "source": [
    "These statistics show a significant difference in the mean and median of the distributions that was not immediately apparent from the above visualisation. Let's visualise the data in a way that shows the median and interquartile range in order to better visualise spread and central tendency."
   ]
  },
  {
   "cell_type": "code",
   "execution_count": 48,
   "id": "cc9b421e",
   "metadata": {},
   "outputs": [
    {
     "data": {
      "image/png": "[encoded data removed]",
      "text/plain": [
       "<Figure size 864x504 with 1 Axes>"
      ]
     },
     "metadata": {},
     "output_type": "display_data"
    },
    {
     "data": {
      "text/plain": [
       "<Figure size 432x288 with 0 Axes>"
      ]
     },
     "metadata": {},
     "output_type": "display_data"
    }
   ],
   "source": [
    "plt.figure(figsize=(12,7))\n",
    "ax = sns.boxplot(x='total_observations', y='con_status', data=new_df)\n",
    "ax.set_title('Distribution of total observations for species')\n",
    "plt.show()\n",
    "plt.clf()"
   ]
  },
  {
   "cell_type": "markdown",
   "id": "a6962c33",
   "metadata": {},
   "source": [
    "We can now see a clear difference between the groups of species with and without conservation statuses. To quantify this association between having a conservation status or not and total observations of the species in our dataset, we need to use a statistical test.\n",
    "\n",
    "In this case, a two sample T test would usually be appropriate. However, the kde plots above appear to be bimodal. This is a problem because one of the assumptions of a two sample T test is that the distribution is (roughly) normal.\n",
    "\n",
    "One way of testing whether a distribution is normal or not is the Shapiro-Wilk test."
   ]
  },
  {
   "cell_type": "code",
   "execution_count": 52,
   "id": "36ca3af4",
   "metadata": {},
   "outputs": [
    {
     "data": {
      "text/plain": [
       "ShapiroResult(statistic=0.8861058950424194, pvalue=0.0)"
      ]
     },
     "execution_count": 52,
     "metadata": {},
     "output_type": "execute_result"
    }
   ],
   "source": [
    "stats.shapiro(new_df.total_observations[new_df.con_status == 'No Conservation Status'])"
   ]
  },
  {
   "cell_type": "code",
   "execution_count": 49,
   "id": "58c70846",
   "metadata": {},
   "outputs": [
    {
     "data": {
      "text/plain": [
       "ShapiroResult(statistic=0.889789342880249, pvalue=2.9677093666998473e-22)"
      ]
     },
     "execution_count": 49,
     "metadata": {},
     "output_type": "execute_result"
    }
   ],
   "source": [
    "stats.shapiro(new_df.total_observations[new_df.con_status == 'Conservation Status'])"
   ]
  },
  {
   "cell_type": "markdown",
   "id": "a1a127fd",
   "metadata": {},
   "source": [
    "A p-value of less than 0.05 indicates that the distribution is not normal - so we can definitely say that these data are not normally distributed!\n",
    "\n",
    "In this case, we have to use the non-parametric alternative to the two sample T Test - the Mann-Whitney U test."
   ]
  },
  {
   "cell_type": "code",
   "execution_count": 54,
   "id": "fd1a4869",
   "metadata": {},
   "outputs": [
    {
     "data": {
      "text/plain": [
       "MannwhitneyuResult(statistic=9309097.0, pvalue=5.969368489177303e-21)"
      ]
     },
     "execution_count": 54,
     "metadata": {},
     "output_type": "execute_result"
    }
   ],
   "source": [
    "results = stats.mannwhitneyu(new_df.total_observations[new_df.con_status == 'No Conservation Status'], new_df.total_observations[new_df.con_status == 'Conservation Status'])\n",
    "results"
   ]
  },
  {
   "cell_type": "markdown",
   "id": "37bd4295",
   "metadata": {},
   "source": [
    "This is a very low p-value, and thus we can firmly reject the null hypothesis that there is no difference in the population means (we had, of course, already established a difference in the sample means).\n",
    "\n",
    "**We can therefore say that, on average, species with a conservation status are observed less than species without a conservation status.**"
   ]
  },
  {
   "cell_type": "markdown",
   "id": "04efce18",
   "metadata": {},
   "source": [
    "## *Does this change between national parks?*"
   ]
  },
  {
   "cell_type": "markdown",
   "id": "af29c34b",
   "metadata": {},
   "source": [
    "Now that we have established that species with a conservation status are observed less than species without a conservation status, we might ask: is this trend true independent of the national park the observations are made in?\n",
    "\n",
    "Below we can see that the different national parks have different distributions of total observations, perhaps due to different park sizes, available staff, etc."
   ]
  },
  {
   "cell_type": "code",
   "execution_count": 68,
   "id": "36dac5ee",
   "metadata": {},
   "outputs": [
    {
     "data": {
      "image/png": "[encoded data removed]",
      "text/plain": [
       "<Figure size 720x720 with 1 Axes>"
      ]
     },
     "metadata": {},
     "output_type": "display_data"
    },
    {
     "data": {
      "text/plain": [
       "<Figure size 432x288 with 0 Axes>"
      ]
     },
     "metadata": {},
     "output_type": "display_data"
    }
   ],
   "source": [
    "plt.figure(figsize=(10,10))\n",
    "ax = sns.boxenplot(y='park_name', x='total_observations', data=new_df)\n",
    "ax.set_title('Distribution of total observations by national park')\n",
    "plt.show()\n",
    "plt.clf()"
   ]
  },
  {
   "cell_type": "markdown",
   "id": "41e2e46a",
   "metadata": {},
   "source": [
    "The above demonstrates that the baseline distribution of observations is different between parks, independent of the question of which kind of species (with or without a conservation status) are observed more. Let's separate out the observations into species with and without conservation statuses."
   ]
  },
  {
   "cell_type": "code",
   "execution_count": 62,
   "id": "cb839c05",
   "metadata": {},
   "outputs": [
    {
     "data": {
      "image/png": "[encoded data removed]",
      "text/plain": [
       "<Figure size 720x720 with 1 Axes>"
      ]
     },
     "metadata": {},
     "output_type": "display_data"
    },
    {
     "data": {
      "text/plain": [
       "<Figure size 432x288 with 0 Axes>"
      ]
     },
     "metadata": {},
     "output_type": "display_data"
    }
   ],
   "source": [
    "plt.figure(figsize=(10, 10))\n",
    "ax = sns.boxenplot(y='park_name', x='total_observations', hue= 'con_status', data=new_df)\n",
    "ax.set_title('Distribution of total observations for all species, by national park, coloured by possesion of conservation status')\n",
    "plt.show()\n",
    "plt.clf()"
   ]
  },
  {
   "cell_type": "markdown",
   "id": "48c6c61e",
   "metadata": {},
   "source": [
    "This graph paints a clear picture: regardless of the national park, species with a conservation status are observed less than species without a conservation status. \n",
    "\n",
    "In particular, we can note that there is a higher median, minimum, and maximum value of total observations for species without a conservation status than for species with a conservation status *in every park*, which is fairly conclusive."
   ]
  },
  {
   "cell_type": "markdown",
   "id": "26d1a6bb",
   "metadata": {},
   "source": [
    "### Which park has the smallest difference between the two groups?"
   ]
  },
  {
   "cell_type": "markdown",
   "id": "706a7c14",
   "metadata": {},
   "source": [
    "We might still be interested in a further question, however: does national park have an effect on the **difference** between species with and without conservation statuses? We might provisionally hypothesise that this differerence could serve as a rough metric for which parks are more successful in their conservation efforts than the others.\n",
    "\n",
    "To answer this question, we need to ask which of the four pairs of distributions (conservation status/ no conservation status) corresponding to each park are most similar and most different. To do this, we can use the two-sided Kolmogorov-Smirnov test, which seeks to quantify the probability that two sets of samples were drawn from the same (unknown) probability distribution.\n",
    "\n",
    "The null hypotheisis is that the two sample distributions were drawn from the same distribution, so the test that returns the lowest p-value has the highest probability that the samples were drawn from different populations, and is therefore the 'most different'. Therefore, the test that returns the highest p-value has the lowest probability that the samples were drawn from different populations, and is therefore the 'most similar'."
   ]
  },
  {
   "cell_type": "code",
   "execution_count": 57,
   "id": "8067d679",
   "metadata": {},
   "outputs": [],
   "source": [
    "# Establishing the Categories\n",
    "\n",
    "UT = new_df[new_df.con_status == 'Conservation Status']\n",
    "NUT = new_df[new_df.con_status == 'No Conservation Status']\n",
    "\n",
    "B_UT = UT.total_observations[UT.park_name == 'Bryce National Park']\n",
    "B_NUT = NUT.total_observations[NUT.park_name == 'Bryce National Park']\n",
    "GSM_UT = UT.total_observations[UT.park_name == 'Great Smoky Mountains National Park']\n",
    "GSM_NUT = NUT.total_observations[NUT.park_name == 'Great Smoky Mountains National Park']\n",
    "Y_UT = UT.total_observations[UT.park_name == 'Yellowstone National Park']\n",
    "Y_NUT = NUT.total_observations[NUT.park_name == 'Yellowstone National Park']\n",
    "Yo_UT = UT.total_observations[UT.park_name == 'Yosemite National Park']\n",
    "Yo_NUT = NUT.total_observations[NUT.park_name == 'Yosemite National Park']"
   ]
  },
  {
   "cell_type": "code",
   "execution_count": 58,
   "id": "9693e80a",
   "metadata": {
    "scrolled": true
   },
   "outputs": [
    {
     "data": {
      "text/plain": [
       "KstestResult(statistic=0.19152422980504277, pvalue=4.5406776721934605e-06)"
      ]
     },
     "execution_count": 58,
     "metadata": {},
     "output_type": "execute_result"
    }
   ],
   "source": [
    "Bryce_results = stats.ks_2samp(B_UT, B_NUT, alternative='two-sided', mode='auto')\n",
    "Bryce_results"
   ]
  },
  {
   "cell_type": "code",
   "execution_count": 59,
   "id": "e1825436",
   "metadata": {},
   "outputs": [
    {
     "data": {
      "text/plain": [
       "KstestResult(statistic=0.266614871444258, pvalue=2.0452528559644634e-11)"
      ]
     },
     "execution_count": 59,
     "metadata": {},
     "output_type": "execute_result"
    }
   ],
   "source": [
    "GSM_results = stats.ks_2samp(GSM_UT, GSM_NUT, alternative='two-sided', mode='auto')\n",
    "GSM_results"
   ]
  },
  {
   "cell_type": "code",
   "execution_count": 60,
   "id": "f5a6c1c0",
   "metadata": {},
   "outputs": [
    {
     "data": {
      "text/plain": [
       "KstestResult(statistic=0.5117440487289452, pvalue=1.4432899320127035e-15)"
      ]
     },
     "execution_count": 60,
     "metadata": {},
     "output_type": "execute_result"
    }
   ],
   "source": [
    "Y_results = stats.ks_2samp(Y_UT, Y_NUT, alternative='two-sided', mode='auto')\n",
    "Y_results"
   ]
  },
  {
   "cell_type": "code",
   "execution_count": 61,
   "id": "affc8e3c",
   "metadata": {},
   "outputs": [
    {
     "data": {
      "text/plain": [
       "KstestResult(statistic=0.35753413305156734, pvalue=1.4432899320127035e-15)"
      ]
     },
     "execution_count": 61,
     "metadata": {},
     "output_type": "execute_result"
    }
   ],
   "source": [
    "Yo_results = stats.ks_2samp(Yo_UT, Yo_NUT, alternative='two-sided', mode='auto')\n",
    "Yo_results"
   ]
  },
  {
   "cell_type": "markdown",
   "id": "5599bfff",
   "metadata": {},
   "source": [
    "It seems fairly clear from these results that Bryce National Park has the smallest difference between the two distributions (more strictly, the highest probability that the two distributions could have been drawn from the same population). We can see from the boxenplot above that this would match our assumptions from looking at the graphical representation: Bryce National Park has the closest median points and a similarly shaped distribution."
   ]
  },
  {
   "cell_type": "markdown",
   "id": "54e9c3d7",
   "metadata": {},
   "source": [
    "**Overall, species with a conservation status are observed less than species without a conservation status (this was established both graphically and with statistical tests).**\n",
    "\n",
    "**Further, this is true for every national park (a fact that was also established graphically and statistically). Although all the national parks had significant disparities between observations of species that have been granted a conservation status and species that have not, Bryce National Park had the smallest disparity, perhaps suggesting more success in conservation efforts.**"
   ]
  },
  {
   "cell_type": "markdown",
   "id": "3d95b82f",
   "metadata": {},
   "source": [
    "# Conclusion"
   ]
  },
  {
   "cell_type": "markdown",
   "id": "b83b45a3",
   "metadata": {},
   "source": [
    "To conclude, the project succeed in answering the two questions set out at the outset.\n",
    "\n",
    "First, certain categories of species are disproportionately likely to be granted a conservation status. This is broadly true even for individual conservation statuses, although there are so few species listed in some categories (such as 'In Recovery') that the broader trends are not evident.\n",
    "\n",
    "Second, species with a conservation status are observed less than species without a conservation status across all four national parks, although Bryce National Park had the smallest disparity, perhaps suggesting more success in their conservation efforts."
   ]
  }
 ],
 "metadata": {
  "kernelspec": {
   "display_name": "Python 3 (ipykernel)",
   "language": "python",
   "name": "python3"
  },
  "language_info": {
   "codemirror_mode": {
    "name": "ipython",
    "version": 3
   },
   "file_extension": ".py",
   "mimetype": "text/x-python",
   "name": "python",
   "nbconvert_exporter": "python",
   "pygments_lexer": "ipython3",
   "version": "3.9.7"
  }
 },
 "nbformat": 4,
 "nbformat_minor": 5
}
